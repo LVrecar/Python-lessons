{
 "nbformat": 4,
 "nbformat_minor": 2,
 "metadata": {
  "language_info": {
   "name": "python",
   "codemirror_mode": {
    "name": "ipython",
    "version": 3
   },
   "version": "3.7.0-final"
  },
  "orig_nbformat": 2,
  "file_extension": ".py",
  "mimetype": "text/x-python",
  "name": "python",
  "npconvert_exporter": "python",
  "pygments_lexer": "ipython3",
  "version": 3,
  "kernelspec": {
   "name": "python37032bit996778d60c194c01a2641b4831ac5551",
   "display_name": "Python 3.7.0 32-bit"
  }
 },
 "cells": [
  {
   "cell_type": "markdown",
   "metadata": {},
   "source": [
    "# Welcome back to your Python course\n",
    "Congratulations on completing the second lesson. This lesson is where the fun begins. Today, we'll be covering one of the most important concepts of programming, *functions*"
   ],
   "execution_count": null,
   "outputs": []
  },
  {
   "cell_type": "markdown",
   "metadata": {},
   "source": [
    "Functions in Python function (haha) similarly to the functions you know from maths. They receive an input and return an output, which usually depends on said input. For starters, let's see what we know about mathematical functions and find parallels to Python functions\n",
    "\n",
    "- Functions take in an input and produce an output (just like in maths)\n",
    "- The input has to be valid, i.e. a function needs to be defined for it (like the *domain* of a function in maths)\n",
    "- The function's output all belong to a set (like the *range* of a function in ..you get the idea)\n",
    "- Generally, a function will produce the same output for the same input every time\n",
    "- Functions can take in *parameters* (Variables in maths)"
   ],
   "execution_count": null,
   "outputs": []
  },
  {
   "cell_type": "markdown",
   "metadata": {},
   "source": [
    "There are some very useful *built-in* (they come installed with Python) functions, but more important than that is knowing how to write your own. The syntax for defining a function is as follows:\n",
    "### def functionName(*parameter(s)*):\n",
    ">*insert functionality here*\n",
    "\n",
    "Notice the *def* keyword (short for define) and the *colon* at the end. That is what is required for Python to see your code as defining a new function. Also notice the *indentation*. Whenever we define a function, all of its contents need to be indented. This can be done by pressing *Tab* once or *Space* 4 times. These provide same-sized indents. Most, if not all code editors will recognize that you're trying to write a function and will indent your text automatically.\n",
    "\n",
    "To call (use) a function, the syntax is as follows:\n",
    "### functionName(*parameter(s)*)\n",
    "\n",
    "What's important here is knowing how the function you're trying to call is defined. If it has parameters, it's important that you insert them in the call, in the correct order. Most text editors will provide a floating window (I can show you this later, I can't insert images here) where you're typing which shows all arguments (arguments, parameters, same difference) a function requires to work\n",
    "\n",
    "*N.B.:* Functions are the core building block of any program that you wish to write. It is therefore important you understand how to write them and use them"
   ],
   "execution_count": null,
   "outputs": []
  },
  {
   "cell_type": "code",
   "execution_count": null,
   "metadata": {},
   "outputs": [],
   "source": [
    "#EXAMPLE\n",
    "#A function with one argument which prints out the circumference of the circle with radius r\n",
    "\n",
    "def circumference(r):\n",
    "    circumference = 2 * 3.14 * r #It's common practice to use spaces between operands and operators, to improve readability\n",
    "    print(circumference)\n",
    "\n",
    "circumference(5) #This will call circumference(r) with r set to 5 and print the circumference\n",
    "circumference(1) #We can call the function as many times as we wish\n"
   ]
  },
  {
   "cell_type": "markdown",
   "metadata": {},
   "source": [
    "Using the example above, write your own function, area(r), which prints the area of a circle with radius r. Just as a reminder, the area of a circle is\n",
    "\n",
    ">$A = \\pi r^2$"
   ],
   "execution_count": null,
   "outputs": []
  },
  {
   "cell_type": "code",
   "execution_count": null,
   "metadata": {},
   "outputs": [],
   "source": [
    "#YOUR FUNCTION GOES INTO THIS BOX\n",
    "#Don't forget to test your function with a few inputs to make sure it's working correctly\n",
    "\n",
    "\n"
   ]
  },
  {
   "cell_type": "markdown",
   "metadata": {},
   "source": [
    "Now we've seen how functions work, but what if we want to use the output of our function somewhere else? For example, if we just want to get a number in, square it and take away 3, then use the result separately? Fear not, for Python has a way. The *return* keyword is what you need. As the name suggests, return will give you back (no, I'm not saying return again) the result of a function. If you decide to use return, you need to assign the function call to a variable"
   ],
   "execution_count": null,
   "outputs": []
  },
  {
   "cell_type": "code",
   "execution_count": null,
   "metadata": {},
   "outputs": [],
   "source": [
    "#EXAMPLE\n",
    "\n",
    "def returnCircumference(r):\n",
    "    circumference = 2 * 3.14 * r #It's common practice to use spaces between operands and operators, to improve readability\n",
    "    return circumference #You will notice return is of a different colour. All Python keywords are coloured differently than other text in one way or another\n",
    "\n",
    "\n",
    "circumference5 = returnCircumference(5) #Now we have the result stored in a variable and can do things with it. For now, we'll just print it\n",
    "print(circumference5)\n"
   ]
  },
  {
   "cell_type": "markdown",
   "metadata": {},
   "source": [
    "In the box provided below, rewrite your function for the area of a circle so it uses return. Don't forget to test your code to make sure it works"
   ],
   "execution_count": null,
   "outputs": []
  },
  {
   "cell_type": "code",
   "execution_count": null,
   "metadata": {},
   "outputs": [],
   "source": [
    "#YOUR FUNCTION GOES INTO THIS BOX"
   ]
  },
  {
   "cell_type": "markdown",
   "metadata": {},
   "source": [
    "## Notes on functions\n",
    "Despite appearing smart, Python is actually quite stupid. In order to be able to call a function without upsetting it you first need to define it. When reading through your program, the *interpreter* (translator into 1s and 0s) won't know you have defined the function if it first encounters a call. Instead of waiting for a call, however, it just gives an error. Observe"
   ],
   "execution_count": null,
   "outputs": []
  },
  {
   "cell_type": "code",
   "execution_count": null,
   "metadata": {},
   "outputs": [],
   "source": [
    "a = double(3)\n",
    "\n",
    "def double(x):\n",
    "    return x * 2"
   ]
  },
  {
   "cell_type": "markdown",
   "metadata": {},
   "source": [
    "Furthermore, a function needs to be provided with all arguments (except for those which are optional, of course) if you don't want Python to complain. If you wish to learn about optional arguments, let me know and I'll explain them"
   ],
   "execution_count": null,
   "outputs": []
  },
  {
   "cell_type": "code",
   "execution_count": null,
   "metadata": {},
   "outputs": [],
   "source": [
    "def areaOfRectangle(width, height):\n",
    "    return width*height\n",
    "\n",
    "print(areaOfRectangle(4, 3)) #If a function returns and you call it inside of print(), it will print the result straight away\n",
    "#It's the same as writing\n",
    "#result = areaOfRectangle(4,3)\n",
    "#print(result)\n",
    "#but we cut out the middle man, making code shorter and easier to read\n",
    "\n",
    "print(areaOfRectangle(5)) #This line causes issues! Either fix it or comment it out, whatever you wish"
   ]
  },
  {
   "cell_type": "markdown",
   "metadata": {},
   "source": [
    "## Built-in functions\n",
    "There are some functions which come installed with Python already. They are very useful since they implement functionality which is needed often and that saves you from having to write it yourself"
   ]
  },
  {
   "cell_type": "code",
   "execution_count": 5,
   "metadata": {},
   "outputs": [
    {
     "output_type": "stream",
     "name": "stdout",
     "text": "2.95\n"
    }
   ],
   "source": [
    "#round(number, numOfDigits)\n",
    "#returns number, rounded to numOfDigits decimal places\n",
    "\n",
    "a = 2.946587542\n",
    "aRounded = round(a, 2)\n",
    "print(aRounded)"
   ]
  },
  {
   "cell_type": "code",
   "execution_count": 6,
   "metadata": {},
   "outputs": [
    {
     "output_type": "stream",
     "name": "stdout",
     "text": "5\n"
    }
   ],
   "source": [
    "#abs(number)\n",
    "#returns the absolute value of number\n",
    "print(abs(-5))"
   ]
  },
  {
   "cell_type": "code",
   "execution_count": null,
   "metadata": {},
   "outputs": [],
   "source": [
    "#type(stuff)\n",
    "#returns the datatype of stuff\n",
    "print(type(\"Hi!\"))"
   ]
  },
  {
   "cell_type": "code",
   "execution_count": null,
   "metadata": {},
   "outputs": [],
   "source": [
    "#len(stuff)\n",
    "#returns the length (number of items) of stuff\n",
    "\n",
    "listOf3 = [4, 5, 6]\n",
    "print(len(listOf3))\n",
    "\n",
    "longString = \"asbhjuztrdfbnmkjhgdfgju\" #Think of strings as a list of characters, it makes it easier to see why this works\n",
    "print(len(longString))"
   ]
  },
  {
   "cell_type": "markdown",
   "metadata": {},
   "source": [
    "### \"Conversion\" functions\n",
    "For each datatype, you have a \"conversion\" function (for lack of a better term). These functions take an input and change it's type if that's possible (otherwise, they raise an error)\n",
    "Here they are:\n",
    "- *int(stuff)* converts stuff into an integer\n",
    "- *float(stuff)* converts stuff into a float\n",
    "- *str(stuff)* converts stuff into a string\n",
    "- *list(stuff)* converts stuff into a list\n",
    "- *tuple(stuff)* converts stuff into a tuple\n",
    "\n",
    "There are some special ones as well, which only work for integers or valid inputs to the int() function:\n",
    "- *bin(stuff)* converts stuff into a number in binary (Python prints '0b....')\n",
    "- *oct(stuff)* converts stuff into a number in octal (Python prints '0o....')\n",
    "- *hex(stuff)* converts stuff into a number in hexadecimal (Python prints '0x....')"
   ]
  },
  {
   "cell_type": "markdown",
   "metadata": {},
   "source": [
    "Of course, there are many more functions we will not cover here, and as always, consult the documentation or the Internet for any function you might need\n",
    "\n",
    "## Additional topics (let me know if you're interested)\n",
    "- Anonymous (*lambda*) functions\n",
    "- Scope (quite handy to understand, so it might come later anyway)"
   ]
  }
 ]
}