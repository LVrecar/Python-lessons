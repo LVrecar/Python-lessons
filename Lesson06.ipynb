{
 "nbformat": 4,
 "nbformat_minor": 2,
 "metadata": {
  "language_info": {
   "name": "python",
   "codemirror_mode": {
    "name": "ipython",
    "version": 3
   },
   "version": "3.7.0-final"
  },
  "orig_nbformat": 2,
  "file_extension": ".py",
  "mimetype": "text/x-python",
  "name": "python",
  "npconvert_exporter": "python",
  "pygments_lexer": "ipython3",
  "version": 3,
  "kernelspec": {
   "name": "python37032bit996778d60c194c01a2641b4831ac5551",
   "display_name": "Python 3.7.0 32-bit"
  }
 },
 "cells": [
  {
   "cell_type": "markdown",
   "metadata": {},
   "source": [
    "## Advanced list & string stuff\n",
    "- iteration\n",
    ">- how for i in list:\n",
    ">>i = x doesn't change the list contents\n",
    "- slicing and item access\n",
    "- lists of lists and how to work with that (ties in with lesson 07)\n",
    "- list comprehension (extra) -> think about how we define sets in maths (with rules instead of listing all elements)\n",
    "- string formatting"
   ],
   "execution_count": null,
   "outputs": []
  },
  {
   "cell_type": "markdown",
   "metadata": {},
   "source": [
    "# Welcome back to your Python course!\n",
    "Good job on getting through your first 5 lessons! As I'm writing this I see no end yet as we're just getting into it. In the last lesson we learned about iteration and today we're going to use it on lists to see just what we can do with them."
   ],
   "execution_count": null,
   "outputs": []
  },
  {
   "cell_type": "markdown",
   "metadata": {},
   "source": [
    "## Iteration\n",
    "As we've seen before, lists can be iterated over using loops. But can their content be changed? Let's take a look!\n",
    "\n",
    "Consider the loop below. It takes a list and adds 1 to each of it's items"
   ],
   "execution_count": null,
   "outputs": []
  },
  {
   "cell_type": "code",
   "execution_count": null,
   "metadata": {},
   "outputs": [],
   "source": [
    "listOfNumbers = [1, 2, 3, 4, 5]\n",
    "\n",
    "for number in listOfNumbers:\n",
    "    number += 1\n",
    "\n",
    "print(listOfNumbers)"
   ]
  },
  {
   "cell_type": "markdown",
   "metadata": {},
   "source": [
    "As you can see, this hasn't worked. Sadly, it's not as easy as 1 + 1. You're about to be familiarised with one of the main things that makes lists powerful. *Random access* (cue angelic choir music). Random access is a term used in computer science. It denotes the possibility of getting a data structure (a list, for example) and accessing an item right in the middle of it, if we want. \n",
    "\n",
    "A list is capable of that where some other data structures (linked lists etc.) are not. With those you have to go through each item, from the start, until you reach the one you want. With few items, it doesn't make much of a difference, but what if you have a list of millions of items? Getting the 950 721<sup>st</sup> item isn't fun anymore, is it?"
   ],
   "execution_count": null,
   "outputs": []
  },
  {
   "cell_type": "markdown",
   "metadata": {},
   "source": [
    "## Item access and slicing\n",
    "I don't know if you remember, but when we were working on list methods, we met an interesting method, *-index()*. If you do remember, recall how it returned the position of a given item in a list, its *index*. Computers, remember, use 0 as the first index, so the first item in a list has index 0. The second one has index 1 and so on.\n",
    "\n",
    "We can directly access an item, if we know its index, like so:  \n",
    "**listName\\[*index*]**  \n",
    "\n",
    "**N.B.:** Be careful when using this method as calling an index which is too big will, in fact, produce an error.\n",
    "\n",
    "See **\\[*index*]** in action below"
   ],
   "execution_count": null,
   "outputs": []
  },
  {
   "cell_type": "code",
   "execution_count": null,
   "metadata": {},
   "outputs": [],
   "source": [
    "listOfNames = [\"Leo\", \"Carl\", \"Anne\", \"Bert\", \"Amy\"]\n",
    "\n",
    "print(listOfNames[1])\n",
    "print(listOfNames[0])"
   ]
  },
  {
   "cell_type": "markdown",
   "metadata": {},
   "source": [
    "A neat thing to use as well is negative indexes. They function exactly the same, only they start at 1 and work *backwards* through the list"
   ],
   "execution_count": null,
   "outputs": []
  },
  {
   "cell_type": "code",
   "execution_count": null,
   "metadata": {},
   "outputs": [],
   "source": [
    "listOfNames = [\"Leo\", \"Carl\", \"Anne\", \"Bert\", \"Amy\"]\n",
    "\n",
    "print(listOfNames[-1])\n",
    "print(listOfNames[-2])"
   ]
  },
  {
   "cell_type": "markdown",
   "metadata": {},
   "source": [
    "\"That's so cool\" I hear you say. \"But what if I want to extract entire sub-lists from my list?\". Well worry not, Python has you covered! It has a thing called *slicing* which works like this:\n",
    "\n",
    "**someList\\[*start*:*end*:*step*]**  \n",
    "where start, end AND step are all optional.  \n",
    "What this returns is another list. It takes the items with indexes from *start* (included) to *end* (NOT included). If step is specified, it skips some elements (like *range* does). *start* defaults to 0, *end* defaults to 1 + the last element's index (i.e. the *length* of the list - can you see why that's true?), and *step* defaults to 1, meaning all items are included in the returned list\n",
    "\n",
    "Take a look at the code box below to see slicing in action"
   ],
   "execution_count": null,
   "outputs": []
  },
  {
   "cell_type": "code",
   "execution_count": null,
   "metadata": {},
   "outputs": [],
   "source": [
    "listOfNumbers = [1, 2, 3, 4, 5, 6, 7, 8, 9, 10]\n",
    "\n",
    "print(listOfNumbers[0:5]) #As you see here, the colon before step is omitted, but it's best to leave it in\n",
    "print(listOfNumbers[0:5:]) #Like this\n",
    "print(listOfNumbers[4:7])\n",
    "print(listOfNumbers[::-1]) #Why does this one reverse the list???\n",
    "\n",
    "#Challenge no. 1: print out all the odd numbers in the list using slices\n",
    "#Challenge no. 2: print out all the even numbers in the list using slices\n",
    "\n"
   ]
  },
  {
   "cell_type": "markdown",
   "metadata": {},
   "source": [
    "Now we've got all the tools to access items in lists. We can now go about the task of adding 1 to all the elements of a list"
   ],
   "execution_count": null,
   "outputs": []
  },
  {
   "cell_type": "code",
   "execution_count": null,
   "metadata": {},
   "outputs": [],
   "source": [
    "listOfNumbers = [1, 2, 3, 4, 5]\n",
    "\n",
    "for i in range(len(listOfNumbers)): #We use len(list) to determine the size of the range(). start defaults to 0 anyway\n",
    "    print(i) #So we can see it in action and check it really goes from 0 to 4\n",
    "    listOfNumbers[i] += 1 #We use the index (since range starts at 0) to get the item and add 1 to it using +=\n",
    "\n",
    "print(listOfNumbers) #We print the list"
   ]
  },
  {
   "cell_type": "markdown",
   "metadata": {},
   "source": [
    "Of course, this can be used to apply a function to an entire list (also known as mapping). Look at the example where we double all the elements in a list using a function"
   ],
   "execution_count": null,
   "outputs": []
  },
  {
   "cell_type": "code",
   "execution_count": null,
   "metadata": {},
   "outputs": [],
   "source": [
    "def double(x):\n",
    "    return 2 * x\n",
    "\n",
    "listToDouble = [1, 2, 3, 4, 5, 6, 7, 8, 9, 10]\n",
    "for i in range(len(listToDouble)):\n",
    "    listToDouble[i] = double(listToDouble[i]) #we call double on an element of the list and store it back in the same place in the list\n",
    "\n",
    "print(listToDouble)"
   ]
  },
  {
   "cell_type": "markdown",
   "metadata": {},
   "source": [
    "## Lists of Lists\n",
    "Remember when we said lists can contain anything? Well, they can. Even other lists. Which in turn can contain other lists, which can.... The concept of a list of lists is useful in some cases. For example if you wish to create a game of noughts and crosses, you can create a list of 3 lists which each contain 3 empty strings. Then you can populate the strings as the game progresses, making it look like a board. OR, for example, if you work with matrices. There are *libraries* in Python which implement matrices, but in case you don't want to use that, you can always write your own! Let's take a look at how that might work"
   ],
   "execution_count": null,
   "outputs": []
  },
  {
   "cell_type": "markdown",
   "metadata": {},
   "source": [
    "Let's look at the naughts and crosses example. We'll see how to access each individual slot on the board and (since we know how to, we'll change the value. We'll define a function which will take in a list (the board) two numbers between 0 and 2, (indexes for the row and column) and a sign (\"X\" or \"O\"). After each move we will print the board out, row by row, to see the game unfold, and learn how to work with lists of lists in the process. Sounds good? I sure hope so.\n",
    "\n",
    "**Note**: We won't be adding any checks here, for example if the game is won or the field we want to play in is full. That's something you can tackle on your own if you wish"
   ],
   "execution_count": null,
   "outputs": []
  },
  {
   "cell_type": "code",
   "execution_count": null,
   "metadata": {},
   "outputs": [],
   "source": [
    "board = [[\" \", \" \", \" \"], [\" \", \" \", \" \"], [\" \", \" \", \" \"]]\n",
    "def makeMove(board, row, column, sign):\n",
    "    board[row][column] = sign #We first access the row inside board, which is a list of rows. We then take that row, and access the column inside it. Then we set the value for that position to be whatever the sign is\n",
    "\n",
    "    for element in board: #This prints the updated board to the output\n",
    "        print(element)\n",
    "\n",
    "    print(\"###############\") #We print this for spacing\n",
    "\n",
    "makeMove(board, 0, 0, \"X\")\n",
    "makeMove(board, 1, 1, \"O\")\n",
    "makeMove(board, 2, 0, \"X\")\n",
    "makeMove(board, 1, 0, \"O\")"
   ]
  },
  {
   "cell_type": "markdown",
   "metadata": {},
   "source": [
    "I hope this clears up lists of lists. So, just to reiterate, the syntax is  \n",
    "\n",
    "**list\\[*index of element we wish to access*]\\[*index of element we wish to acces in the element of list*]**\n",
    "\n",
    "Python evaluates things left-to-right, and just to make it clearer how it works, i'll put in some parenthesis:  \n",
    "\n",
    "**(**list\\[*index of element we wish to access*]**)**\\[*index of element we wish to acces in the element of list*]"
   ],
   "execution_count": null,
   "outputs": []
  },
  {
   "cell_type": "markdown",
   "metadata": {},
   "source": [
    "## List comprehension (extra)\n",
    "We already know how to define lists *explicitly* by listing (haha) all the items. But what if we don't want to do that? There is a concept known as *list comprehension*, which works kind of like describing sets in maths. Example:  \n",
    "You wish to make a set of all numbers below 100 which are divisible by 13. Instead of listing them, you could just say  \n",
    "> A = {x : x < 100 and x|13}\n",
    "\n",
    "That way you describe the *properties* of all elements of a set instead of listing them out explicitly. List comprehension works in the exact same way. It can be dodgy sometimes but can turn code into elegant one-liners and is very useful for *mapping*"
   ],
   "execution_count": null,
   "outputs": []
  },
  {
   "cell_type": "markdown",
   "metadata": {},
   "source": [
    "There's no single way to describe the syntax but lists using list comprehension always look sort of like this:\n",
    "\n",
    "listName = \\[*output* __for__ *some condition* __in__ *input* (*then you can add more conditions*)]\n",
    "\n",
    "It's probably best to just see it in action"
   ],
   "execution_count": null,
   "outputs": []
  },
  {
   "cell_type": "code",
   "execution_count": null,
   "metadata": {},
   "outputs": [],
   "source": [
    "l1 = list(range(20)) #Creates a list of all the numbers below 20\n",
    "print(l1)\n",
    "\n",
    "l2 = [x for x in l1 if x%2 == 0] #This sorts out the even ones: goes through all and checks if the remainder of x / 2 is 0\n",
    "print(l2)"
   ]
  },
  {
   "cell_type": "code",
   "execution_count": null,
   "metadata": {},
   "outputs": [],
   "source": [
    "l1 = list(range(20)) #Creates a list of all the numbers below 20\n",
    "print(l1)\n",
    "\n",
    "l2 = [3 * number for number in l1] #This multiplies all the numbers in the list by 3 and produces a new list\n",
    "print(l2)"
   ]
  },
  {
   "cell_type": "code",
   "execution_count": null,
   "metadata": {},
   "outputs": [],
   "source": [
    "l1 = list(range(20)) #Creates a list of all the numbers below 20\n",
    "print(l1)\n",
    "\n",
    "[print(x) for x in l1] #This calls print() on all elements of l1. There's no need to store it in a variable, but you can try if you want, and print it to see what happens\n"
   ]
  },
  {
   "cell_type": "code",
   "execution_count": null,
   "metadata": {},
   "outputs": [],
   "source": [
    "def doubleMinus1(x): #A function which takes x and returns 2x-1\n",
    "    return 2 * x -1\n",
    "\n",
    "l1 = list(range(20)) #Creates a list of all the numbers below 20\n",
    "print(l1)\n",
    "\n",
    "l2 = [doubleMinus1(x) for x in l1] #This maps doubleMinus1(x) onto l1 and produces a new list.\n",
    "print(l2)\n",
    "\n",
    "#Challenge no. 1: Try writing a for loop equivalent of this mapping (Hint: you can use append(element) to add said element to the end of a list)\n",
    "\n"
   ]
  },
  {
   "cell_type": "code",
   "execution_count": null,
   "metadata": {},
   "outputs": [],
   "source": [
    "l = range(20)\n",
    "\n",
    "[print(i) for i in l] #now isn't that an elegant way to print all the items in a list?"
   ]
  },
  {
   "cell_type": "markdown",
   "metadata": {},
   "source": [
    "So as we've seen list comprehension is handy in some cases and makes your code look very elegant and professional. The best way to get a grip on it is, in fact, using it in practice (if you want to, that is). And now onto the final thing of today's lesson"
   ],
   "execution_count": null,
   "outputs": []
  },
  {
   "cell_type": "markdown",
   "metadata": {},
   "source": [
    "## String formatting\n",
    "Another extremely useful concept is *string formatting*. Put simply, it's a way of merging strings with other data types into a single string which we can then print out however we wish. If you recall the early on lessons, you could add two strings using *+* as an operator between them to join them into one. Sadly,  we couldn't do that for other datatypes. This is where string formatting is the way to go. This is what you need to format a string:\n",
    "- a string\n",
    "- values of other datatypes to put inside the string  \n",
    "\n",
    "It works something like this: \n",
    "> \"some string text %\\* some more text\" %(*other datatypes*)\n",
    "\n",
    "Inside the string itself you can have as many %\\* as you wish, but you **MUST** have them listed in the order they appear in the string in the %() bit as well. It will become more clear when we do some examples.  \n",
    "The \\* in %\\* can be replaced with different things, based on what we wish to put inside the string:  \n",
    "- *%d* *%i* are for integers (they're the same)\n",
    "- *%f* is for floats (defaults to 6 decimal places, adding trailing zeroes or rounding if necessary)\n",
    "- *%.nf* where n is an integer is for floats rounded to *n* decimal places. If n is 0, the number printed is an integer\n",
    "- *%s* is for strings and is also used for other things (such as lists). It works as if you called str() on the datatype you want to put inside your string and adding it in\n",
    "\n",
    "Let's take a look at where this might be useful\n"
   ],
   "execution_count": null,
   "outputs": []
  },
  {
   "cell_type": "code",
   "execution_count": null,
   "metadata": {},
   "outputs": [],
   "source": [
    "elements = [[\"Hydrogen\", 1, 1.01], [\"Helium\", 2, 4.0], [\"Oxygen\", 8, 16.0]]\n",
    "\n",
    "for e in elements:\n",
    "    output = \"%s has an atomic number of %d and a mass number of %.2f\" %(e[0], e[1], e[2])\n",
    "    print(output)"
   ]
  },
  {
   "cell_type": "markdown",
   "metadata": {},
   "source": [
    "Looking at this example we see it can be very useful to represent data with our program in a neat way, understandable to everyone. However, you have to be careful. Using the wrong thing after % or getting the order wrong can either thrown an error or produce unwanted results. Let's use the same example as above, but swap *e\\[1]* and *e\\[2]*"
   ],
   "execution_count": null,
   "outputs": []
  },
  {
   "cell_type": "code",
   "execution_count": 29,
   "metadata": {},
   "outputs": [
    {
     "output_type": "stream",
     "name": "stdout",
     "text": "Hydrogen has an atomic number of 1 and a mass number of 1.00\nHelium has an atomic number of 4 and a mass number of 2.00\nOxygen has an atomic number of 16 and a mass number of 8.00\n"
    }
   ],
   "source": [
    "elements = [[\"Hydrogen\", 1, 1.01], [\"Helium\", 2, 4.0], [\"Oxygen\", 8, 16.0]]\n",
    "\n",
    "for e in elements:\n",
    "    output = \"%s has an atomic number of %d and a mass number of %.2f\" %(e[0], e[2], e[1])\n",
    "    print(output)"
   ]
  },
  {
   "cell_type": "markdown",
   "metadata": {},
   "source": [
    "As we see this is all wrong, which is why order matters and I dare not show you an error (to be fair I am just lazy, but curiosity killed the cat as they say). If you are ever unsure what goes after % the internet is your best friend. Feel free to play around with string formatting in the code box below if you wish and I will see you in the next lesson"
   ],
   "execution_count": null,
   "outputs": []
  },
  {
   "cell_type": "code",
   "execution_count": null,
   "metadata": {},
   "outputs": [],
   "source": [
    "#PLAYGROUND\n",
    "\n"
   ]
  }
 ]
}