{
 "nbformat": 4,
 "nbformat_minor": 2,
 "metadata": {
  "language_info": {
   "name": "python",
   "codemirror_mode": {
    "name": "ipython",
    "version": 3
   },
   "version": "3.7.0-final"
  },
  "orig_nbformat": 2,
  "file_extension": ".py",
  "mimetype": "text/x-python",
  "name": "python",
  "npconvert_exporter": "python",
  "pygments_lexer": "ipython3",
  "version": 3,
  "kernelspec": {
   "name": "python37032bit996778d60c194c01a2641b4831ac5551",
   "display_name": "Python 3.7.0 32-bit"
  }
 },
 "cells": [
  {
   "cell_type": "markdown",
   "metadata": {},
   "source": [
    "# Welcome back to your Python course\n",
    "Good job on completing lesson 1. Remember, you can always look back to previous lessons if you need to refresh your memory or a cheat sheet"
   ],
   "execution_count": null,
   "outputs": []
  },
  {
   "cell_type": "markdown",
   "metadata": {},
   "source": [
    "This lesson will expand a bit on the datatypes we met in the previous lesson. Mainly we'll focus on operations we can do with them and type-specific *methods*. Later on, we'll tackle *functions* as well.\n",
    "A method in programming is similar to a function (both in programming and mathematics, but more on that later), but it's only applicable to specific *objects*. In Python, all things are objects since it's an *object-oriented language*. If you wish to find out more about objects I can dedicate some lessons to them at the end, since it's kind of an advanced topic. For now, all you have to know is that when I say *method* I mean a function which can only be applied to specific datatypes. \n",
    "\n",
    "The syntax is the following:\n",
    "> ### stuff.method()\n",
    "\n",
    "where stuff denotes the thing we want to use the method on, and method() is the method we wish to *invoke* (fancy term, I know)\n",
    "\n",
    "**N.B.:** You don't have to memorize all the methods for all the datatypes as there are many and not all are equally usefull. You can always consult the documentation (see Lesson 1, or just google \"Python 3 documentation\") or the internet in general to find the methods you need. Also, just so you know, we will not cover all existing methods, just the ones I think are the most useful for specific datatypes"
   ],
   "execution_count": null,
   "outputs": []
  },
  {
   "cell_type": "markdown",
   "metadata": {},
   "source": [
    "## Operations\n",
    "We saw the basic operations at work with numbers in lesson 1. Now let's take a look what they can do with other datatypes.\n"
   ],
   "execution_count": null,
   "outputs": []
  },
  {
   "cell_type": "code",
   "execution_count": null,
   "metadata": {},
   "outputs": [],
   "source": [
    "#First, let's add some variables set to different types with different values\n",
    "exampleString = \"Hello\"\n",
    "anotherExampleString = \"World\"\n",
    "\n",
    "pi = 3.14\n",
    "e = 2.71\n",
    "\n",
    "list1 = [1, 2, 3]\n",
    "list2 = [4, 5, 6]\n",
    "\n",
    "tuple1 = (1, 2)\n",
    "tuple2 = (3, 4)\n",
    "\n",
    "#ADDITION (what do you think will happen with each of these? print() to find out!)\n",
    "exampleString + anotherExampleString #adding strings or lists is called concatenation\n",
    "pi + e\n",
    "list1 + list2\n",
    "tuple1 + tuple2\n",
    "#print(exampleString + pi) #uncomment this line and check if it works!\n",
    "\n",
    "#SUBSTRACTION\n",
    "pi - e #sadly, it only works for number-based datatypes\n",
    "\n",
    "#MULTIPLICATION\n",
    "pi * e\n",
    "pi * 2 #the only two datatypes that can mix without issues are integers and floats\n",
    "\n",
    "#what do you think? Will these work?\n",
    "#print(exampleString*3) \n",
    "#print(list1*5)\n",
    "#print(list1*list2)\n",
    "\n",
    "#DIVISION (only works on numbers, which is frankly boring)\n",
    "pi / e\n",
    "\n",
    "#PLAYGROUND - here you can try whatever you'd like. Explore the boundaries of this world of almost endless possibilities\n",
    "#Remember, a curious programmer is a good programmer"
   ]
  },
  {
   "cell_type": "markdown",
   "metadata": {},
   "source": [
    "As we've seen in lesson one, we can store the results of these operations into variables for later use. Wherever normal operators work *assignment operators*(+=, -=, *= and so on) work as well, which is a good thing to remember as they make our code look that much nicer (and more professional too!)\n",
    "\n",
    "Now let's move on to methods"
   ],
   "execution_count": null,
   "outputs": []
  },
  {
   "cell_type": "markdown",
   "metadata": {},
   "source": [
    "## String methods\n",
    "All string methods return a new value (which has to be assigned to a variable if we wish to keep it) and do not change the original string"
   ],
   "execution_count": null,
   "outputs": []
  },
  {
   "cell_type": "code",
   "execution_count": null,
   "metadata": {},
   "outputs": [],
   "source": [
    "#split(delimiter, *count*)\n",
    "\n",
    "#when called, this method returns a LIST of substrings which are made by splitting the string each time the delimiter string is found. There is an optional argument (surrounded with *), to specify how many splits we want.\n",
    "#you can play with the string, the delimeter and count to get a better understanding of how they work\n",
    "\n",
    "stringForSplitting = \"bananas\"\n",
    "output = stringForSplitting.split(\"a\")\n",
    "print(output)\n",
    "print(stringForSplitting)\n",
    "\n",
    "#PRACTICAL EXAMPLE\n",
    "#Splitting values in one giant string sausage, separated by commas or spaces or slashes or whatever\n",
    "#For example\n",
    "names = \"Amy, John, Claire, Frank\"\n",
    "nameList = names.split(\", \")\n",
    "print(nameList)"
   ]
  },
  {
   "cell_type": "code",
   "execution_count": null,
   "metadata": {},
   "outputs": [],
   "source": [
    "#replace(oldStuff, newStuff, *count*)\n",
    "#replaces oldStuff with newStuff *count* times, If count is unspecified, all occurences of oldStuff will be replaced\n",
    "\n",
    "oldString = \"bananas\"\n",
    "newString = oldString.replace(\"n\", \"m\")\n",
    "print(newString)\n",
    "\n",
    "#PRACTICAL EXAMPLE\n",
    "#Making fun of people with speach impediments\n",
    "\n",
    "tongueTwister = \"Round and round the rugged rocks the ragged rascal ran.\"\n",
    "karelErjavec = tongueTwister.replace(\"r\", \"h\") #Notice how this won't change the capital R!\n",
    "print(karelErjavec)\n",
    "whoeverSaysW = tongueTwister.replace(\"r\", \"w\")\n",
    "print(whoeverSaysW)"
   ]
  },
  {
   "cell_type": "markdown",
   "metadata": {},
   "source": [
    "## List methods"
   ],
   "execution_count": null,
   "outputs": []
  },
  {
   "cell_type": "code",
   "execution_count": null,
   "metadata": {},
   "outputs": [],
   "source": [
    "#append(item)\n",
    "#adds item to the end of the list\n",
    "\n",
    "listOfNumbers = [1, 2, 3]\n",
    "listOfNumbers.append(4)\n",
    "print(listOfNumbers)\n",
    "\n",
    "#PRACTICAL EXAMPLE\n",
    "#this is useful in many many situations, therefore I will not go into details\n",
    "#Note: list.append(item) has the same effect as list + [item] (item is here in square brackets since it's a list, although with just 1 element)"
   ]
  },
  {
   "cell_type": "code",
   "execution_count": null,
   "metadata": {},
   "outputs": [],
   "source": [
    "#count(item)\n",
    "#returns the number of occurrences of item in a list\n",
    "\n",
    "listOfNumbers = [3, 1, 4, 1, 5, 9, 1]\n",
    "countOnes = listOfNumbers.count(1)\n",
    "print(countOnes)\n",
    "\n",
    "#PRACTICAL EXAMPLE\n",
    "#again, this is just so useful it's pointless to go into details\n",
    "#Note: this is also applicable to tuples"
   ]
  },
  {
   "cell_type": "code",
   "execution_count": null,
   "metadata": {},
   "outputs": [],
   "source": [
    "#index(item)\n",
    "#returns the position of the first occurrence of item in the list\n",
    "\n",
    "listOfStrings = [\"abc\", \"bread\", \"string\"]\n",
    "position = listOfStrings.index(\"abc\")\n",
    "print(position) #Note that this returns 0 and not 1. It is a common feature throughout programming languages to use 0 as the first position\n",
    "\n",
    "#PRACTICAL EXAMPLE\n",
    "#see above\n",
    "#Note: this is also applicable to tuples"
   ]
  },
  {
   "cell_type": "markdown",
   "metadata": {},
   "source": [
    "## Other datatypes and their methods\n",
    "I will not go into further detail here about the other datatypes (dict, set, frozenset) since we don't need to. If you think they might be useful to you, let me know and I'll prepare a special lesson on them. Int and float don't have specific methods since everything that you could want to do with an integer or float can be done using operations (+, -, *, /, etc.) or assignment operators (+=, -=, etc.)"
   ],
   "execution_count": null,
   "outputs": []
  }
 ]
}