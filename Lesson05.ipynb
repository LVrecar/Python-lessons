{
 "nbformat": 4,
 "nbformat_minor": 2,
 "metadata": {
  "language_info": {
   "name": "python",
   "codemirror_mode": {
    "name": "ipython",
    "version": 3
   },
   "version": "3.7.0-final"
  },
  "orig_nbformat": 2,
  "file_extension": ".py",
  "mimetype": "text/x-python",
  "name": "python",
  "npconvert_exporter": "python",
  "pygments_lexer": "ipython3",
  "version": 3,
  "kernelspec": {
   "name": "python37032bit996778d60c194c01a2641b4831ac5551",
   "display_name": "Python 3.7.0 32-bit"
  }
 },
 "cells": [
  {
   "cell_type": "markdown",
   "metadata": {},
   "source": [
    "# Welcome back to your Python course!\n",
    "In the previous lesson, we looked at if/elif/else statements as a way to control what happens based on variables. Today, we'll look at another way, which is applied in other scenarios, *loops*.  \n",
    "Loops are useful for running the same bit of code multiple times. It saves you from copying your code over and over 70 times, and can adapt quickly. For example, you realise you wish to run a bit of code 10 instead of 5 times. You don't have to paste 5 more copies of that code somewhere, you just change a single number.  \n",
    "### It just works!"
   ],
   "execution_count": null,
   "outputs": []
  },
  {
   "cell_type": "markdown",
   "metadata": {},
   "source": [
    "## Range\n",
    "Range is a bit of a funny thing. It's a separate *class* (more on that later on). You don't really need to know how it works, just how to use it. The explanation here is not technically correct, so don't quote me on it. It's just for you to grasp the concept easier. What I'm about to describe is what happens when calling list(range()), but for us it's good enough to say it's what happens when range() is called.  \n",
    "The syntax for range is the following:  \n",
    "\n",
    "**range**(*start*, end, *step*)  \n",
    "\n",
    "where start and step are optional. If called without start, start defaults to 0, and if called without step, step defaults to 1.  \n",
    "What is then returned is a list of integers, which are bigger than or equal to *start* and smaller than *end*, which differ by *step*. *start*, *end* and *step* can either be literals, or variables (provided these variables are of type **int**).\n",
    "\n",
    "I believe it's best to just see it in action:"
   ],
   "execution_count": null,
   "outputs": []
  },
  {
   "cell_type": "code",
   "execution_count": null,
   "metadata": {},
   "outputs": [],
   "source": [
    "#As mentioned above, due to technicalities, we print list(range()) instead of range()\n",
    "#Feel free to play around with the values to see what happens\n",
    "\n",
    "print(list(range(5))) #Calling it with just 1 argument\n",
    "\n",
    "print(list(range(0, 5))) #Calling it with 2 arguments\n",
    "print(list(range(5, 11)))\n",
    "\n",
    "start = 15\n",
    "end = 27\n",
    "\n",
    "print(list(range(start, end)))\n",
    "\n",
    "print(list(range(0, 20, 2))) #Calling it with all 3 arguments, where step is 2\n",
    "\n",
    "#Bonus task 1: how would you print all odd numbers less than 20?\n",
    "#Bonus task 2: how would you print all multiples of 6 less than 100?\n",
    "#hint: changing the third argument might be a step in the right direction\n",
    "\n",
    ""
   ]
  },
  {
   "cell_type": "markdown",
   "metadata": {},
   "source": [
    "Now we've seen what range does. We'll be using it in tandem with other concepts in the future, only without list(), just range(). For now, let's move on to our main topic of the day"
   ],
   "execution_count": null,
   "outputs": []
  },
  {
   "cell_type": "markdown",
   "metadata": {},
   "source": [
    "## For loops\n",
    "As mentioned before, loops are made for repeated execution of code. There are two ways we can do that. The first one, is repeating the execution a set number of times. For that, we use *for loops*. The way they work is as follows:  \n",
    "**for** *item* **in** *collection*:  \n",
    "> do something  \n",
    "\n",
    "where *collection* can be a list, a string, a range, or anything else that is a collection of multiple *items*.\n",
    "Consider the most basic for loop, which just prints each individual item in a list\n",
    "\n",
    "**N.B.**: the *do something* part can be multiple lines, you can call functions in it, have if/elif/else statements in there, whatever you wish!"
   ],
   "execution_count": null,
   "outputs": []
  },
  {
   "cell_type": "code",
   "execution_count": null,
   "metadata": {},
   "outputs": [],
   "source": [
    "nameList = [\"Bob\", \"Craig\", \"Alice\", \"John\", \"Mary\"]\n",
    "\n",
    "for name in nameList: #name is now a variable, which changes with each iteration (repetition) of the loop\n",
    "    print(name)\n",
    ""
   ]
  },
  {
   "cell_type": "markdown",
   "metadata": {},
   "source": [
    "Remember when I said you should think of strings as lists of characters? This is the type of stuff this is useful for"
   ],
   "execution_count": null,
   "outputs": []
  },
  {
   "cell_type": "code",
   "execution_count": null,
   "metadata": {},
   "outputs": [],
   "source": [
    "someString = \"Encyclopedia\"\n",
    "\n",
    "for character in someString:\n",
    "    print(character)"
   ]
  },
  {
   "cell_type": "markdown",
   "metadata": {},
   "source": [
    "Now we've seen how to do something for each item in a collection, what about if we wish to just repeat some code a set number of times? This is where range() comes in again. "
   ],
   "execution_count": null,
   "outputs": []
  },
  {
   "cell_type": "code",
   "execution_count": null,
   "metadata": {},
   "outputs": [],
   "source": [
    "for i in range(2, 5): #i is a sort of standard name for a variable when iterating over a range. It's not used inside the loop as in the above examples, but it has to be there so Python knows we're iterating over things\n",
    "    print(\"Hello!\")"
   ]
  },
  {
   "cell_type": "code",
   "execution_count": null,
   "metadata": {},
   "outputs": [],
   "source": [
    "howMany = 16\n",
    "\n",
    "for i in range(howMany): #remember, start is 0 by default\n",
    "    print(\"Goodbye!\")"
   ]
  },
  {
   "cell_type": "markdown",
   "metadata": {},
   "source": [
    "Below, a function is defined. Using a for loop and range properly, make sure all multiples of 3 <= 30 are printed"
   ],
   "execution_count": null,
   "outputs": []
  },
  {
   "cell_type": "code",
   "execution_count": null,
   "metadata": {},
   "outputs": [],
   "source": [
    "def printNumber(number):\n",
    "    print(number)\n",
    "\n",
    "#Your for loop goes below!\n"
   ]
  },
  {
   "cell_type": "markdown",
   "metadata": {},
   "source": [
    "## While loops\n",
    "We've checked out repeating some operation over a collection already, now let's take a look at repeating code based on a condition. That can be done using *while* loops. A while loop looks like this:  \n",
    "\n",
    "**while** *condition*:  \n",
    "> *do something*  \n",
    "\n",
    "Each time at the beginning of the loop, the condition is checked, and if it evaluates to **True**, the loop is executed again. Therefore, we have to make sure to change the condition somewhere inside the loop, otherwise it will run forever! The example below is quite pointless, but it gives you an idea of how the loop works"
   ],
   "execution_count": null,
   "outputs": []
  },
  {
   "cell_type": "code",
   "execution_count": null,
   "metadata": {},
   "outputs": [],
   "source": [
    "#Play with the values of gramsAdded, the condition, and the contents of the loop\n",
    "gramsAdded = 0\n",
    "\n",
    "while gramsAdded < 10:\n",
    "    gramsAdded += 1\n",
    "\n",
    "print(gramsAdded)"
   ]
  },
  {
   "cell_type": "markdown",
   "metadata": {},
   "source": [
    "## break, continue, pass\n",
    "Sometimes, we set out to loop over some code but wish to stop once we get what we wanted.  \n",
    "\n",
    "For a real life example: you decide to go to a dog shelter each day, starting January 1st, until you find a dog you wish to adopt. Therefore you've decided to go there 365 times, right? Imagine now, that you already found the dog you want in March. You're not going to keep going to the shelter are you?  \n",
    "\n",
    "If you answered yes, then you must really like dog shelters! If you answered no, the right solution for a similar coding problem would be to use *break*, *continue* and *pass*."
   ],
   "execution_count": null,
   "outputs": []
  },
  {
   "cell_type": "markdown",
   "metadata": {},
   "source": [
    "### break\n",
    "Let's start with *break*. This one is the most fitting for our analogy with the dog shelter. What *break* does is it breaks the loop (oh really, who would've thought). That is, of course, provided the code inside the loop comes to the *break* keyword. It wouldn't make sense to put *break* just straight into the main part of the loop as the loop would start running, run into *break* and, well, break. Thus we usually use *break* to stop a loop based on a condition.\n",
    "\n",
    "Consider the example below, where we're trying to see if Bob is in the list of names. Notice how many times \"Not Bob\" is printed and if anything prints after Bob has been found"
   ],
   "execution_count": null,
   "outputs": []
  },
  {
   "cell_type": "code",
   "execution_count": null,
   "metadata": {},
   "outputs": [],
   "source": [
    "someNames = [\"Tom\", \"Alice\", \"Chris\", \"Bob\", \"Chloe\", \"Oliver\"]\n",
    "\n",
    "print(\"First list: \")\n",
    "for name in someNames:\n",
    "    if name == \"Bob\":\n",
    "        print(\"Found Bob!\")\n",
    "        break\n",
    "    else:\n",
    "        print(\"Not Bob!\")\n",
    "\n",
    "someMoreNames = [\"James\", \"George\", \"Lucy\", \"Fred\", \"Sarah\"]\n",
    "print(\"Second list:\")\n",
    "for name in someMoreNames:\n",
    "    if name == \"Bob\":\n",
    "        print(\"Found Bob!\")\n",
    "        break\n",
    "    #here we don't care what happens if we haven't found Bob yet, so we can omit the else bit"
   ]
  },
  {
   "cell_type": "markdown",
   "metadata": {},
   "source": [
    "### continue\n",
    "Similarly to *break*, *continue* is also used to stop a loop. Well, not really. What *continue* does is it skips an iteration. Again, provided the bit of the loop with *continue* actually executes, not into the main loop body, conditions, blah blah you get the point.\n",
    "\n",
    "Here's an example where we print all numbers below 20 which are NOT divisible by 7"
   ],
   "execution_count": null,
   "outputs": []
  },
  {
   "cell_type": "code",
   "execution_count": null,
   "metadata": {},
   "outputs": [],
   "source": [
    "for i in range(1, 20):\n",
    "    if i % 7 == 0: #remember, % is the modulo (remainder) operation\n",
    "        continue\n",
    "    print(i)"
   ]
  },
  {
   "cell_type": "markdown",
   "metadata": {},
   "source": [
    "### pass\n",
    "Well, I've spent a lot of time thinking about what the uses for *pass* are and there's really only one. It's mainly used as a placeholder in situations where you would need to write some code to avoid syntax errors, but don't plan on filling that code in yet.\n",
    "\n",
    "In Python, every time you write a colon, code after it has to be indented. The interpreter expects that, but it doesn't know you haven't actually forgotten about writing code after the colon, you just haven't gotten to it yet. So to avoid it from giving us a hard time, we use *pass*\n",
    "\n",
    "A good example which is (not yet) relatable is starting a new **BIG**<sup>*TM*</sup> project. You have a rough idea of how you want the functionality split into functions so you define some, maybe have outlines of their structure too, who knows. But instead of writing actual code, you just write *pass* into the function/loop/branch bodies et voila! The code runs if you need it to.\n",
    "\n",
    "**N.B.**: When you write those **BIG**<sup>*TM*</sup> projects, you need to run your code multiple times to test individual parts, which is where the *pass* placeholder comes in handy (see for yourself below)\n",
    "\n",
    "Run both of the code boxes below to see the difference"
   ],
   "execution_count": null,
   "outputs": []
  },
  {
   "cell_type": "code",
   "execution_count": null,
   "metadata": {},
   "outputs": [],
   "source": [
    "def function1(x):\n",
    "\n",
    "\n",
    "def findBob(names):\n",
    "\n",
    "\n",
    "if True: #this literal is here since Python would not be happy with an undefined variable\n",
    "\n",
    "else:\n",
    "\n",
    "    "
   ]
  },
  {
   "cell_type": "code",
   "execution_count": null,
   "metadata": {},
   "outputs": [],
   "source": [
    "def function1(x):\n",
    "    pass\n",
    "\n",
    "def findBob(names):\n",
    "    for i in range(15):\n",
    "        pass\n",
    "\n",
    "if True: #this literal is here since Python would not be happy with an undefined variable\n",
    "    pass\n",
    "else:\n",
    "    pass"
   ]
  },
  {
   "cell_type": "markdown",
   "metadata": {},
   "source": [
    "This concludes today's lesson. See you again soon, with some more advanced things to do with lists"
   ]
  }
 ]
}