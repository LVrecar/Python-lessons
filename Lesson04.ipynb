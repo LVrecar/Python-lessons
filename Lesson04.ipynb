{
 "nbformat": 4,
 "nbformat_minor": 2,
 "metadata": {
  "language_info": {
   "name": "python",
   "codemirror_mode": {
    "name": "ipython",
    "version": 3
   },
   "version": "3.7.0-final"
  },
  "orig_nbformat": 2,
  "file_extension": ".py",
  "mimetype": "text/x-python",
  "name": "python",
  "npconvert_exporter": "python",
  "pygments_lexer": "ipython3",
  "version": 3,
  "kernelspec": {
   "name": "python37032bit996778d60c194c01a2641b4831ac5551",
   "display_name": "Python 3.7.0 32-bit"
  }
 },
 "cells": [
  {
   "cell_type": "markdown",
   "metadata": {},
   "source": [
    "# Welcome back to your Python course!\n",
    "Good job on completing the lesson on functions! Functions are an essential part of every program and a very useful tool. However, we need different functionality than just assigning values to variables and printing them. Having the program do different things based on the values of variables it's working with is called *control flow*. Believe it or not, we also make decisions in a similar matter as the one we will go over today.\n",
    "\n",
    "Here's an example:  \n",
    "You check the weather before you leave your house.  \n",
    "If it's raining/snowing/otherwise precipitating, you take an umbrella with you.  \n",
    "Otherwise, you leave it at home and hope it doesn't rain. (Looking at you, UK)"
   ],
   "execution_count": null,
   "outputs": []
  },
  {
   "cell_type": "markdown",
   "metadata": {},
   "source": [
    "This is what we will be looking at today. *If/else statements* are one fo the most useful tools when it comes to deciding what our program should do next. But before that, we need to understand how a computer decides about what to do. As we said before, computers aren't very smart and can't make decisions. But if you tell it to calculate something and do things based on the result, a computer is far better at that than any human. That is where *Boolean values* and *Boolean operators* come in."
   ],
   "execution_count": null,
   "outputs": []
  },
  {
   "cell_type": "markdown",
   "metadata": {},
   "source": [
    "## Boolean values\n",
    "Boolean values and operations were introduced by George Boole in 1847. The fact that we still use them today and that all of modern computing is based on it can give you an idea of just how powerful it is. Boolean values are meant to represent the only two values of a logical statement: *true* and *false*.  \n",
    "Computers use 1s and 0s (current in a wire and no current in a wire) on the lowest levels, but Python uses the aptly named *True* and *False* for that. As you can see below, the words True and False are a different colour, meaning we spelled them right."
   ],
   "execution_count": null,
   "outputs": []
  },
  {
   "cell_type": "code",
   "execution_count": null,
   "metadata": {},
   "outputs": [],
   "source": [
    "trueBoolean = True\n",
    "falseBoolean = False\n",
    "iLovePython = True"
   ]
  },
  {
   "cell_type": "markdown",
   "metadata": {},
   "source": [
    "### Other things which are True and False\n",
    "True and False, however, are not the only things in Python that represent the logical true and false. Here are a few other examples:\n",
    "- 0 is False, every non-zero *int* is True\n",
    "- an empty *list* is False, and non-empty lists are True\n",
    "- an empty *str* is False, and non empty strings are True\n",
    "- **None** is False (more about None in a future lesson)"
   ],
   "execution_count": null,
   "outputs": []
  },
  {
   "cell_type": "markdown",
   "metadata": {},
   "source": [
    "These values are what logical expressions in Python are evaluated to. A logical expression can either be written directly where we want to use it, or it can also be a function which returns a Boolean value when called. First, let's take a look at what kinds of expressions we can write without the use of functions"
   ],
   "execution_count": null,
   "outputs": []
  },
  {
   "cell_type": "markdown",
   "metadata": {},
   "source": [
    "## Comparison in Python\n",
    "This is the most basic thing we can do to get a Boolean value, apart from writing a *literal* (writing a literal means writing the actual value, in this case True and False). We can compare two values (or variables), provided they are of the same type. Here is what we can use to compare the values:\n",
    "- *==*: This checks for equality. The single *=* is reserved for assigning value, so we use double *=* for comparison\n",
    "- *<*, *>*: These are for checking if a value is strictly larger or smaller than some other value (you probably remember it from maths)\n",
    "- *<=*, *>=*: These are for checking if a value is larger/smaller or *equal* to the other value (also from maths)\n",
    "- *!=*: A bit of a weird one notation-wise, but checks if two values are *not* equal\n"
   ],
   "execution_count": null,
   "outputs": []
  },
  {
   "cell_type": "markdown",
   "metadata": {},
   "source": [
    "## What about non-number types?\n",
    "This is a bit of a weird one. I suggest you play with it yourself in the code box provided, or check the official documentation. What's worth remembering though is that strings are equal if they look exactly the same, and lists are equal if they contain the same elements in the same order.\n",
    "\n",
    "Experiment with values in the code box below to see how these operators work."
   ],
   "execution_count": null,
   "outputs": []
  },
  {
   "cell_type": "code",
   "execution_count": null,
   "metadata": {},
   "outputs": [],
   "source": [
    "a = 6\n",
    "print(a > 5)\n",
    "print(a == 7)\n",
    "print (a != 9)\n",
    "\n",
    "someString = \"hello\"\n",
    "someOtherString = \"hello!\"\n",
    "print(someString == someOtherString)\n",
    "\n",
    "list1 = [1, 2, 3]\n",
    "list2 = [1, 3, 2]\n",
    "print(list1 != list2)"
   ]
  },
  {
   "cell_type": "markdown",
   "metadata": {},
   "source": [
    "## If/else statements\n",
    "Think back to the weather example from earlier. Remember how we used the words *if* and *otherwise* to signify what to do based on the weather outside. Python does a very similar thing with what's called an *if/else* statement. This is what it looks like:  \n",
    "\n",
    "**if** *condition*:\n",
    "> do something  \n",
    "\n",
    "**else**\n",
    "> otherwise do something else  \n",
    "\n",
    "*condition* can be a logical expression, or a literal (that's perfectly valid, but doesn't make sense as one of the branches will never be executed). Provided that *condition* evaluates to **True**, the *do something* part gets executed. In case *condition* evaluates to **False**, the *otherwise do something else* part gets executed\n",
    "\n",
    "Let's see this in action:"
   ],
   "execution_count": null,
   "outputs": []
  },
  {
   "cell_type": "code",
   "execution_count": null,
   "metadata": {},
   "outputs": [],
   "source": [
    "concentration = 0.05 #Feel free to change this value to see what happens\n",
    "\n",
    "if concentration < 0.1:\n",
    "    print(\"Please add some more\")\n",
    "else:\n",
    "    print(\"The concentration is good\")"
   ]
  },
  {
   "cell_type": "markdown",
   "metadata": {},
   "source": [
    "As we see from the example above, this checks for sufficient concentration. But what if we added too much and we have to dilute the solution? Worry not, Python has it covered. Inside the if and else bits you can have more if/else statements, like so:"
   ],
   "execution_count": null,
   "outputs": []
  },
  {
   "cell_type": "code",
   "execution_count": null,
   "metadata": {},
   "outputs": [],
   "source": [
    "concentration = 0.05 #Feel free to change this value to see what happens\n",
    "\n",
    "if concentration < 0.1:\n",
    "    print(\"Please add some more\")\n",
    "else:\n",
    "    if concentration > 0.2:\n",
    "        print(\"The concentration is too high!\")\n",
    "    else:\n",
    "        print(\"The concentration is good\")"
   ]
  },
  {
   "cell_type": "markdown",
   "metadata": {},
   "source": [
    "However, these *nested* statements, as we call them, can get out of hand quite quickly! This is where *if/elif/else* statements come in. *elif* is just an abbreviation for *else if*. The nice thing is, you're not limited to just one *elif* either. See for yourself:"
   ],
   "execution_count": null,
   "outputs": []
  },
  {
   "cell_type": "code",
   "execution_count": null,
   "metadata": {},
   "outputs": [],
   "source": [
    "concentration = 0.5 #Feel free to change this value to see what happens\n",
    "\n",
    "if concentration < 0.1:\n",
    "    print(\"Please add some more\")\n",
    "elif 0.2 < concentration < 0.5: #We can check if the concentration is bigger than 0.2 and smaller than 0.5 at the same time, saving ourselves an 'and' here\n",
    "    print(\"That's too much, please dilute\")\n",
    "elif concentration >= 0.5:\n",
    "    print(\"What the hell are you doing???\")\n",
    "elif concentration == 0:\n",
    "    print(\"Can you please add the chemicals...\")\n",
    "else:\n",
    "    print(\"The concentration is good\")"
   ]
  },
  {
   "cell_type": "markdown",
   "metadata": {},
   "source": [
    "It's a good idea to keep the *else* reserved for the \"default\" case, if you will. Consider the above example. We checked if the value was too low, then if it was too high, if it was 0 and also if it was super high. The one option we haven't checked for is when the concentration is good, which is why we left it in the *else* bit."
   ],
   "execution_count": null,
   "outputs": []
  },
  {
   "cell_type": "markdown",
   "metadata": {},
   "source": [
    "## Boolean operations\n",
    "If we want to check multiple conditions, we can always nest more if/elif/else statements inside if/elif/else statements. With larger programs and many values ot check, these can get out of hand very quickly. This is where *boolean operations* swoop in and save the day. They are **not**, **and** and **or**. The table below illustrates how they behave:\n",
    "\n",
    "<table>\n",
    "    <tr>\n",
    "        <th> A </th>\n",
    "        <th> B </th>\n",
    "        <th> not A </th>\n",
    "        <th> A or B </th>\n",
    "        <th> A and B </th>\n",
    "    </tr>\n",
    "    <tr>\n",
    "        <td>True</td>\n",
    "        <td>True</td>\n",
    "        <td>False</td>\n",
    "        <td>True</td>\n",
    "        <td>True</td>\n",
    "    </tr>\n",
    "    <tr>\n",
    "        <td>True</td>\n",
    "        <td>False</td>\n",
    "        <td>False</td>\n",
    "        <td>True</td>\n",
    "        <td>False</td>\n",
    "    </tr>\n",
    "    <tr>\n",
    "        <td>False</td>\n",
    "        <td>True</td>\n",
    "        <td>True</td>\n",
    "        <td>True</td>\n",
    "        <td>False</td>\n",
    "    </tr>\n",
    "    <tr>\n",
    "        <td>False</td>\n",
    "        <td>False</td>\n",
    "        <td>True</td>\n",
    "        <td>False</td>\n",
    "        <td>False</td>\n",
    "    </tr>\n",
    "</table>\n",
    "\n",
    "To better illustrate this, here is a different implementation of the previous example:"
   ],
   "execution_count": null,
   "outputs": []
  },
  {
   "cell_type": "code",
   "execution_count": null,
   "metadata": {},
   "outputs": [],
   "source": [
    "concentration = 0.7 #Feel free to change this value to see what happens\n",
    "chemical = \"NaCl\"\n",
    "\n",
    "if concentration < 0.1 or 0.2 < concentration < 0.5:\n",
    "    print(\"This is not okay!!!\")\n",
    "elif concentration >= 0.5 and chemical == \"H2SO4\":\n",
    "    print(\"What the hell are you doing???\")\n",
    "elif concentration == 0:\n",
    "    print(\"Can you please add the chemicals...\")\n",
    "else:\n",
    "    print(\"Everything is fine\")"
   ]
  },
  {
   "cell_type": "markdown",
   "metadata": {},
   "source": [
    "Notice how despite the concentration being way above the 0.5 treshold, if the chemical is not right, the program says everything is fine"
   ],
   "execution_count": null,
   "outputs": []
  },
  {
   "cell_type": "markdown",
   "metadata": {},
   "source": [
    "## Ternary operators (optional)\n",
    "Ternary operators have a very limited use, but when you learn how to use them you try using them everywhere. There's something about *refactoring* (rewriting, as the plebs would say) multiple lines of code to do the same thing on just one (1) line of code. Here's how it works:\n",
    "\n",
    "Consider a situation, where you have to change the value of a variable based on a certain condition. You could do it like this:"
   ],
   "execution_count": null,
   "outputs": []
  },
  {
   "cell_type": "code",
   "execution_count": null,
   "metadata": {},
   "outputs": [],
   "source": [
    "concentration = 0.05 #Feel free to change this value to see what happens\n",
    "\n",
    "if 0.1 < concentration:\n",
    "    moreOrLess = \"Less\"\n",
    "else:\n",
    "    moreOrLess = \"More\"\n",
    "\n",
    "print(moreOrLess)"
   ]
  },
  {
   "cell_type": "markdown",
   "metadata": {},
   "source": [
    "Now observe what happens with the moreOrLessTernary value in the box below. I'm using a different name just to prevent Python from remembering it from the box above"
   ],
   "execution_count": null,
   "outputs": []
  },
  {
   "cell_type": "code",
   "execution_count": null,
   "metadata": {},
   "outputs": [],
   "source": [
    "concentration = 0.05 #Feel free to change this value to see what happens\n",
    "\n",
    "moreOrLessTernary = \"Less\" if 0.1 < concentration else \"More\"\n",
    "\n",
    "print(moreOrLessTernary)"
   ]
  },
  {
   "cell_type": "markdown",
   "metadata": {},
   "source": [
    "As you can see, ternary operators work like this:\n",
    "*variable we wish to set* = *value if condition is true* **if** *condition* **else** *value if condition is false*\n",
    "\n",
    "They can also be used without the variable at the start (for example, to call one of two functions based on a condition)"
   ],
   "execution_count": null,
   "outputs": []
  },
  {
   "cell_type": "markdown",
   "metadata": {},
   "source": [
    "## Some final remarks\n",
    "1. Whenever you write if/elif/else statements, make sure to test them thoroughly, especially at extreme values (if checking for number values, make sure you check values with ==, <=, >= in the conditions. Also for number1 < variable < number2 type things, remember to check if you get intended behaaviour when variable equals number1 or number2)\n",
    "2. You don't always need an **else** statement. If you only want something to happen when a condition is true, but nothing to happen when a condition is false, you can skip the **else** bit without any issues\n",
    "3. Continuing from point 2: If you don't have an **else**, but you do have an **elif**, change the **elif** into a separate **if** right below (or not, it might be better as an elif, since it's quicker to notice **if** and **elif** belong together than **if** and **if**)\n",
    "3. **Be careful with indentation**. In Python, the only way to specify what happens inside an if/else or if/elif/else branch is with indentation. I therefore advise you to keep them spaced out from your other code with a blank line at the beginning and end (see below)"
   ],
   "execution_count": null,
   "outputs": []
  },
  {
   "cell_type": "code",
   "execution_count": null,
   "metadata": {},
   "outputs": [],
   "source": [
    "#this is code before\n",
    "#as is this\n",
    "\n",
    "if 1 == 2:\n",
    "    #something happens\n",
    "elif 1 < 2:\n",
    "    #something else happens\n",
    "else:\n",
    "    #something different again\n",
    "\n",
    "#code continues here\n",
    "#and below"
   ]
  }
 ]
}