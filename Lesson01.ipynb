{
 "nbformat": 4,
 "nbformat_minor": 2,
 "metadata": {
  "language_info": {
   "name": "python",
   "codemirror_mode": {
    "name": "ipython",
    "version": 3
   },
   "version": "3.7.0-final"
  },
  "orig_nbformat": 2,
  "file_extension": ".py",
  "mimetype": "text/x-python",
  "name": "python",
  "npconvert_exporter": "python",
  "pygments_lexer": "ipython3",
  "version": 3,
  "kernelspec": {
   "name": "python37032bit996778d60c194c01a2641b4831ac5551",
   "display_name": "Python 3.7.0 32-bit"
  }
 },
 "cells": [
  {
   "cell_type": "markdown",
   "metadata": {},
   "source": [
    "# Welcome to your **Python** course!\n",
    "First, a brief introduction. Python is currently the most used programming language worldwide. As you'll see it's quite simple to use, with easy syntax and semantics. The official website also provides extensive [documentation](https://docs.python.org/3/) for all things Python, how to use them and what exactly they do. Should you ever find yourself stuck on a Python problem, don't also be afraid to google it. The internet is full of forums (I recommend [*StackOverflow*](https://stackoverflow.com/)) with users who had similar issues as you in the past!"
   ],
   "execution_count": null,
   "outputs": []
  },
  {
   "cell_type": "markdown",
   "metadata": {},
   "source": [
    "Let's begin. In this lesson we'll take a look at some basic Python functionality. That is _**arithmetic operations**_,_**variables**_ and _**datatypes**_ "
   ],
   "execution_count": null,
   "outputs": []
  },
  {
   "cell_type": "markdown",
   "metadata": {},
   "source": [
    "## Arithmetic operations\n",
    "Python's arithmetic operations syntax is quite simple compared to other languages. Without the need to install any additional stuff, Python supports the basic operations:\n",
    "- addition (+)\n",
    "- substraction (-)\n",
    "- multiplication (*)\n",
    "- division (/)\n",
    "\n",
    "as well as the following:\n",
    "- modulo (remainder) (%)\n",
    "- integer division (//)\n",
    "- exponents (**)\n",
    "\n",
    "**N.B.:** in Python we use print(*stuff you want to show*) to display things in the output. In these notebooks, the output is below each individual code cell, whereas in just regular Python, it is usually the terminal."
   ],
   "execution_count": null,
   "outputs": []
  },
  {
   "cell_type": "markdown",
   "metadata": {},
   "source": [
    "Run the code in the box below by clicking on the green triangle button or by selecting it and pressing *Ctrl+Enter*. As you will see, only 1+2 (3) will show in the output. Add print(3 + 3) at the end to also print the result of that calculation"
   ],
   "execution_count": null,
   "outputs": []
  },
  {
   "cell_type": "code",
   "execution_count": null,
   "metadata": {},
   "outputs": [],
   "source": [
    "1 + 2\n",
    "print(1 + 2)\n",
    "\n",
    "3 + 3"
   ]
  },
  {
   "cell_type": "markdown",
   "metadata": {},
   "source": [
    "In the code box below, you can see the syntax for each of the arithmetic operations. If you want, you can put a print() around it to display the result and get a good understanding of what they do"
   ],
   "execution_count": null,
   "outputs": []
  },
  {
   "cell_type": "code",
   "execution_count": null,
   "metadata": {},
   "outputs": [],
   "source": [
    "# Comments (text in the code which the computer ignores when running it) are denoted with a # in Python\n",
    "# Comments are usually used to inform people reading the code (and most importantly, yourself) what certain bits of it do.\n",
    "# It is therefore good practice to have at least some comments in your code, since it improves readability immensely\n",
    "\n",
    "print(1 + 2)\n",
    "print(5 - 3)\n",
    "print(4 * 7)\n",
    "print(8 / 2) #Note how this returns 4.0 instead of 4. More information on why that's the case later\n",
    "\n",
    "print(15 % 6) #The modulo operator returns the remainder of dividing the left number with the right (3 in this case)\n",
    "print(9 // 4) #Integer division returns just the whole number (integer) part of the result\n",
    "print(2 ** 3) "
   ]
  },
  {
   "cell_type": "markdown",
   "metadata": {},
   "source": [
    "## Variables\n",
    "We've seen how to perform basic calculations, but we can't store the result! This is where variables come in. In Python, variables do not need to be *declared* separately as in other languages such as Java or C. Variables have different types based on their contents, but more on that later. For now, let's focus on what they can do"
   ],
   "execution_count": null,
   "outputs": []
  },
  {
   "cell_type": "code",
   "execution_count": null,
   "metadata": {},
   "outputs": [],
   "source": [
    "# A variable called 'a', which holds the value 5\n",
    "a = 5\n",
    "b = 3\n",
    "c = a + b #Can you guess what c is equal to? print it below a and b and find out!\n",
    "\n",
    "print(a)\n",
    "print(b)\n",
    ""
   ]
  },
  {
   "cell_type": "markdown",
   "metadata": {},
   "source": [
    "As you can see, variables are an essential part of every program you write. They wouldn't be called variables if they couldn't change however. Observe what happens to the variable *a* when you run the code in the box below"
   ],
   "execution_count": null,
   "outputs": []
  },
  {
   "cell_type": "code",
   "execution_count": null,
   "metadata": {},
   "outputs": [],
   "source": [
    "a = 5\n",
    "print(a)\n",
    "#You can manually set the next value, e.g.\n",
    "a = 8 #Print this value to see how it changed\n",
    "\n",
    "#Additionally, you can do something similar as what we've done for variable c earlier\n",
    "a = a + 5 #this adds 5 to the current value\n",
    "a += 5 #this is \"syntactic sugar\" for the same operation\n",
    "\n",
    "#Similarly, you can apply all other arithmetic operations to a variable (-, *, /). Play around for a bit to see what works and what doesn't. Don't forget to print() so you can see all the answers displayed\n",
    ""
   ]
  },
  {
   "cell_type": "markdown",
   "metadata": {},
   "source": [
    "## Datatypes\n",
    "Variables can hold much more than just numbers. In programming, numbers, text, Boolean values etc. are known as _**datatypes**_ By default, Python gives you the following datatypes to work with:\n",
    "The basic ones, and also the most used are:\n",
    "- *int*, short for integer, which represents whole numbers\n",
    "- *float*, short for floating point number, which is all numbers with a decimal point\n",
    "- *bool*, short for Boolean value, which is either *True* or *False*\n",
    "- *str*, short for string, which represents plain text (letters, numbers, symbols) inside single (') or double(\") quotes\n",
    "- *list*, a *mutable* (means it can be changed) ordered collection of items (which can be of mixed types) inside square brackets, separated by commas\n",
    "- *tuple*, an *immutable* ordered collection of items (which can be of mixed types) inside regular brackets, separated by commas\n",
    "\n",
    "Other datatypes include:\n",
    "- *dict*, short for dictionary\n",
    "- *set*, similar to *list*, but unordered\n",
    "- *frozenset*, like *set*, but immutable\n",
    "\n",
    "Should you want more information on any specific datatype, it will be covered in a future lesson. For now, observe and remember the syntax for all the basic datatypes.\n",
    "\n",
    "**N.B.:** If you ever have doubts about what datatype a variable or value is, you can always print() *type(stuff)* to display it's type\n"
   ],
   "execution_count": null,
   "outputs": []
  },
  {
   "cell_type": "code",
   "execution_count": null,
   "metadata": {},
   "outputs": [],
   "source": [
    "myInt = 5\n",
    "myFloat = 3.14\n",
    "myBool = True\n",
    "myStr = \"Hello\"\n",
    "myList = [1, 2, 3]\n",
    "myTuple = (\"Tom\", 23, myList)\n",
    "\n",
    "#You can print any of the above variables to see what the output produces\n",
    "#Remember: print(stuff) to show the value of stuff, print(type(stuff)) to show which datatype it represents"
   ]
  },
  {
   "cell_type": "markdown",
   "metadata": {},
   "source": [
    "## A quick note on naming conventions\n",
    "In order to improve readability and make code easier to understand for all, there are some naming conventions which should be used throughout your programming.\n",
    "Here are a few:\n",
    "\n",
    "1. Try to avoid single-character names (see 3.), especially l (lowercase L), O (uppercase o), and I (uppercase i) as some fonts make these undistinguishable from other characters\n",
    "2. *resultofsum*: do not use words just stuck together, this is programming, not german. Use lowercase naming with underscores (e.g. result_of_sum) or capitalized case (sometimes refered to as CamelCase - because of the bumps) (e.g. resultOfSum) as this makes it easier to read and decypher the name\n",
    "3. *hotdog*: this is a bad name for a number. Strive to use names which give some clue about what a variable contains (e.g. resultOfSum) or what a function does (e.g. multiplyByTwo)\n",
    "\n",
    "More information on naming can be found here:\n",
    "https://www.python.org/dev/peps/pep-0008/\n",
    "\n",
    "\n",
    "## That will be all for this lesson. I hope you learned something new! Remember, feedback is always appreciated"
   ],
   "execution_count": null,
   "outputs": []
  }
 ]
}